{
 "cells": [
  {
   "cell_type": "markdown",
   "metadata": {},
   "source": [
    "## harmpi analysis tutorial\n",
    "\n",
    "the purpose of this tutorial is to get a first feeling for analyzing output of a numerical simulation\n",
    "\n",
    "here we will use a harmpi magnetized torus run. please make sure you have the files dump000, dump100, gdump in the dumps/ folder and place this notebook in the main simulation directory (next to harm_script.py)\n",
    "\n",
    "as we go, think about items marked \"Q:\", discuss with your neighbors, and ask for help at any step where you get stuck"
   ]
  },
  {
   "cell_type": "markdown",
   "metadata": {},
   "source": [
    "first import some things -- **if it fails**, make sure harm_script.py is in the same directory and there are data files in a dumps/ directory"
   ]
  },
  {
   "cell_type": "code",
   "execution_count": 4,
   "metadata": {},
   "outputs": [],
   "source": [
    "from __future__ import print_function\n",
    "%matplotlib inline\n",
    "import matplotlib; matplotlib.rcParams['axes.unicode_minus']=False; matplotlib.rcParams['image.cmap']='inferno'\n",
    "import matplotlib.pyplot as plt\n",
    "import numpy as np\n",
    "# make plots out to radius r=40 r_g\n",
    "xr=40.\n",
    "\n",
    "%run -i harm_script.py"
   ]
  },
  {
   "cell_type": "markdown",
   "metadata": {},
   "source": [
    "### read in the simulation grid file\n",
    "\n",
    "the data are stored as arrays with 3 dimensions, corresponding to simulation coordinates x1,x2,x3<br>\n",
    "variables are stored as arrays with dimensions (nx1,nx2,nx3)\n",
    "\n",
    "### Q: why is our 3rd dimension of size 1?"
   ]
  },
  {
   "cell_type": "code",
   "execution_count": null,
   "metadata": {},
   "outputs": [],
   "source": [
    "rg(\"gdump\")\n",
    "print(np.shape(x1))\n",
    "\n",
    "print(x1[:5,0,0])\n",
    "print(x1[0,:5,0])"
   ]
  },
  {
   "cell_type": "markdown",
   "metadata": {},
   "source": [
    "### read the dump file of the initial conditions"
   ]
  },
  {
   "cell_type": "code",
   "execution_count": null,
   "metadata": {},
   "outputs": [],
   "source": [
    "rd(\"dump000\")"
   ]
  },
  {
   "cell_type": "markdown",
   "metadata": {},
   "source": [
    "### harm_script.py has built in functions for making 2D contour plots\n",
    "### Q: what variables did we make plots of? (refer to harmpi_tutorial.md for definitions)"
   ]
  },
  {
   "cell_type": "code",
   "execution_count": null,
   "metadata": {},
   "outputs": [],
   "source": [
    "cs, cb = plco(rho,isfilled=1,k=0,xy=1,xmax=xr,ymax=25,dobh=1,cb=1,pretty=1)\n",
    "plt.xlabel('$x$ ($r_g$)'); plt.ylabel('$z$ ($r_g$)')\n",
    "plt.figure()\n",
    "cs, cb = plco(ug,isfilled=1,k=0,xy=1,xmax=xr,ymax=25,dobh=1,cb=1,pretty=1)\n",
    "plt.xlabel('$x$ ($r_g$)'); plt.ylabel('$z$ ($r_g$)')\n",
    "plt.figure()\n",
    "cs, cb = plco(bsq,isfilled=1,k=0,xy=1,xmax=xr,ymax=25,dobh=1,cb=1,pretty=1)\n",
    "plt.xlabel('$x$ ($r_g$)'); plt.ylabel('$z$ ($r_g$)')"
   ]
  },
  {
   "cell_type": "markdown",
   "metadata": {},
   "source": [
    "### visualization is a key part of numerical simulation work! compare to different versions below\n",
    "\n",
    "### Q: what is the difference? what do you think are the pros/cons?"
   ]
  },
  {
   "cell_type": "code",
   "execution_count": null,
   "metadata": {},
   "outputs": [],
   "source": [
    "cs, cb = plco(np.log10(rho),isfilled=1,k=0,xy=1,xmax=xr,ymax=25,dobh=1,cb=1,pretty=1,levels=-10.+10*np.arange(60)/59.,extend=\"both\")\n",
    "plt.xlabel('$x$ ($r_g$)'); plt.ylabel('$z$ ($r_g$)')\n",
    "plt.figure()\n",
    "cs, cb = plco(np.log10(ug),isfilled=1,k=0,xy=1,xmax=xr,ymax=25,dobh=1,cb=1,pretty=1,levels=-10.+8.5*np.arange(60)/59.,extend=\"both\")\n",
    "plt.xlabel('$x$ ($r_g$)'); plt.ylabel('$z$ ($r_g$)')\n",
    "plt.figure()\n",
    "cs, cb = plco(np.log10(bsq),isfilled=1,k=0,xy=1,xmax=xr,ymax=25,dobh=1,cb=1,pretty=1,levels=-14.+12*np.arange(60)/59.,extend=\"both\")\n",
    "plt.xlabel('$x$ ($r_g$)'); plt.ylabel('$z$ ($r_g$)')"
   ]
  },
  {
   "cell_type": "markdown",
   "metadata": {},
   "source": [
    "### Q: experiment on your own using the \"plco\" function in harm_script.py. enter one or more new plots in the blank line below.\n",
    "\n",
    "### some first changes could be the plot bounds xmax, ymax; the contour levels defined by \"levels\", or try plotting a different variable from harmpi_tutorial.md"
   ]
  },
  {
   "cell_type": "code",
   "execution_count": null,
   "metadata": {
    "collapsed": true
   },
   "outputs": [],
   "source": [
    "## ADD ONE OR MORE NEW PLOTS HERE!"
   ]
  },
  {
   "cell_type": "markdown",
   "metadata": {},
   "source": [
    "### quantitatively it's usually easier to look at 1D data, and as a result we want to do slicing or averaging\n",
    "\n",
    "### Q: first, define a radius coordinate in 1D which has size nx1. Call it r1d and enter it in the line below."
   ]
  },
  {
   "cell_type": "code",
   "execution_count": null,
   "metadata": {},
   "outputs": [],
   "source": [
    "r1d = ## ENTER HERE##\n",
    "\n",
    "print(np.shape(r1d))\n",
    "# did it work correctly? how could you check?"
   ]
  },
  {
   "cell_type": "markdown",
   "metadata": {},
   "source": [
    "### define a 1D slice through the equatorial plane"
   ]
  },
  {
   "cell_type": "code",
   "execution_count": null,
   "metadata": {
    "collapsed": true
   },
   "outputs": [],
   "source": [
    "def midplane(x):\n",
    "    return x[:,ny/2,0]"
   ]
  },
  {
   "cell_type": "markdown",
   "metadata": {},
   "source": [
    "### define the integral over surface area ,\\int dA, as a sum over angles on our grid, with dA in each cell related to the metric determinant gdet\n",
    "### example: in flat space spherical coordinates, dA = r^2 sin theta"
   ]
  },
  {
   "cell_type": "code",
   "execution_count": null,
   "metadata": {
    "collapsed": true
   },
   "outputs": [],
   "source": [
    "def sum_angles(x):\n",
    "    return np.sum(np.sum(x*gdet,-1),-1)*_dx2*_dx3"
   ]
  },
  {
   "cell_type": "markdown",
   "metadata": {},
   "source": [
    "### finally define a radial weighted average by the fluid mass density rho, <x> = Sum dA x rho / Sum dA rho\n",
    "### Q: why might density-weighted averages might be useful? why or why not? talk to your neighbors!"
   ]
  },
  {
   "cell_type": "code",
   "execution_count": null,
   "metadata": {
    "collapsed": true
   },
   "outputs": [],
   "source": [
    "def shell(x):\n",
    "    return sum_angles(x*rho)/sum_angles(rho)"
   ]
  },
  {
   "cell_type": "markdown",
   "metadata": {},
   "source": [
    "### the accretion rate is the inward mass flux as a function of radius, Mdot(r) = \\int dA \\rho u^r\n",
    "### where u^r is the radial coordinate velocity as seen at infinity"
   ]
  },
  {
   "cell_type": "code",
   "execution_count": null,
   "metadata": {},
   "outputs": [],
   "source": [
    "FM_000 = sum_angles(-rho*uu[1])\n",
    "plt.plot(r1d,FM_000)\n",
    "plt.xlim(0,xr)\n",
    "plt.xlabel('$r$ ($r_g$)'); plt.ylabel('accretion rate')"
   ]
  },
  {
   "cell_type": "markdown",
   "metadata": {},
   "source": [
    "### let's look at some average properties for the initial dump000\n",
    "**Omega** = u^phi / u^t is the rotation frequency,<br>\n",
    "**v^r** = u^r / u^t is a radial velocity"
   ]
  },
  {
   "cell_type": "code",
   "execution_count": null,
   "metadata": {},
   "outputs": [],
   "source": [
    "Omega_r_000=shell(uu[3]/uu[0])\n",
    "vr_r_000=shell(uu[1]/uu[0])"
   ]
  },
  {
   "cell_type": "markdown",
   "metadata": {},
   "source": [
    "### Q: how would you summarize the motion of the torus?"
   ]
  },
  {
   "cell_type": "code",
   "execution_count": null,
   "metadata": {},
   "outputs": [],
   "source": [
    "plt.plot(r1d,vr_r_000,label='radial velocity')\n",
    "plt.plot(r1d,Omega_r_000*r1d,label='rotational velocity')\n",
    "plt.xlim(6,xr)\n",
    "plt.xlabel('$r$ ($r_g$)'); plt.ylabel('velocity (c)')\n",
    "plt.legend(loc='upper right',fontsize=12)"
   ]
  },
  {
   "cell_type": "markdown",
   "metadata": {},
   "source": [
    "### define some more quantities:\n",
    "**pgas** is the gas pressure,<br>\n",
    "**b^2** is the squared magnetic field strength,<br>\n",
    "**beta** is the relative pressure contributed by gas and magnetic fields,<br>\n",
    "**hr** is the scale height,"
   ]
  },
  {
   "cell_type": "code",
   "execution_count": null,
   "metadata": {},
   "outputs": [],
   "source": [
    "hr_000=np.sqrt(shell((r*np.cos(h))**2.))/r1d\n",
    "pgas_r_000 = shell(ug*(gam-1.))\n",
    "bsq_r_000 = shell(bsq)\n",
    "beta_r_000 = pgas_r_000/bsq_r_000*2."
   ]
  },
  {
   "cell_type": "markdown",
   "metadata": {},
   "source": [
    "**beta ~ 1** means that the magnetic fields push back on the gas. usually we call this \"strong\" while **beta >> 1** means the field is weak.\n",
    "### Q: by that definition, are the magnetic fields in our initial torus weak or strong?"
   ]
  },
  {
   "cell_type": "code",
   "execution_count": null,
   "metadata": {},
   "outputs": [],
   "source": [
    "plt.semilogy(r1d,beta_r_000)\n",
    "plt.xlabel(r'$r$ ($r_g$)'); plt.ylabel(r'plasma beta $\\beta$')\n",
    "plt.xlim(0,xr); plt.ylim(1.,1e6)"
   ]
  },
  {
   "cell_type": "markdown",
   "metadata": {},
   "source": [
    "the scale height tells us how the material is distributed vertically, **h/r << 1 \"thin\"** or **h/r ~ 1 \"thick\"**\n",
    "### Q: would you say our initial torus is geometrically thin or thick?"
   ]
  },
  {
   "cell_type": "code",
   "execution_count": null,
   "metadata": {},
   "outputs": [],
   "source": [
    "plt.plot(r1d,hr_000)\n",
    "plt.xlim(6,xr)\n",
    "plt.xlabel('$r$ ($r_g$)'); plt.ylabel('scale height $h/r$')"
   ]
  },
  {
   "cell_type": "markdown",
   "metadata": {},
   "source": [
    "### now let's look at a later time step!"
   ]
  },
  {
   "cell_type": "code",
   "execution_count": null,
   "metadata": {
    "collapsed": true
   },
   "outputs": [],
   "source": [
    "rd(\"dump100\")"
   ]
  },
  {
   "cell_type": "markdown",
   "metadata": {},
   "source": [
    "### what has **changed** by t = 1000 GM/c^3?"
   ]
  },
  {
   "cell_type": "code",
   "execution_count": null,
   "metadata": {},
   "outputs": [],
   "source": [
    "cs, cb = plco(np.log10(rho),isfilled=1,k=0,xy=1,xmax=xr,ymax=25,dobh=1,cb=1,pretty=1,levels=-10.+10*np.arange(60)/59.,extend=\"both\")\n",
    "plt.xlabel('$x$ ($r_g$)'); plt.ylabel('$z$ ($r_g$)')\n",
    "plt.figure()\n",
    "cs, cb = plco(np.log10(ug),isfilled=1,k=0,xy=1,xmax=xr,ymax=25,dobh=1,cb=1,pretty=1,levels=-10.+8.5*np.arange(60)/59.,extend=\"both\")\n",
    "plt.xlabel('$x$ ($r_g$)'); plt.ylabel('$z$ ($r_g$)')\n",
    "plt.figure()\n",
    "cs, cb = plco(np.log10(bsq),isfilled=1,k=0,xy=1,xmax=xr,ymax=25,dobh=1,cb=1,pretty=1,levels=-14.+12*np.arange(60)/59.,extend=\"both\")\n",
    "plt.xlabel('$x$ ($r_g$)'); plt.ylabel('$z$ ($r_g$)')"
   ]
  },
  {
   "cell_type": "markdown",
   "metadata": {},
   "source": [
    "### now zoom in by changing the bounds of the plot xmax,ymax\n",
    "\n",
    "### Q: what has changed by t=1000 GM/c^3?"
   ]
  },
  {
   "cell_type": "code",
   "execution_count": null,
   "metadata": {},
   "outputs": [],
   "source": [
    "cs, cb = plco(np.log10(rho),isfilled=1,k=0,xy=1,xmax=10,ymax=5,dobh=1,cb=1,pretty=1,levels=-10.+10*np.arange(60)/59.,extend=\"both\")\n",
    "plt.xlabel('$x$ ($r_g$)'); plt.ylabel('$z$ ($r_g$)')\n",
    "plt.figure()\n",
    "cs, cb = plco(np.log10(ug),isfilled=1,k=0,xy=1,xmax=10,ymax=5,dobh=1,cb=1,pretty=1,levels=-10.+8.5*np.arange(60)/59.,extend=\"both\")\n",
    "plt.xlabel('$x$ ($r_g$)'); plt.ylabel('$z$ ($r_g$)')\n",
    "plt.figure()\n",
    "cs, cb = plco(np.log10(bsq),isfilled=1,k=0,xy=1,xmax=10,ymax=5,dobh=1,cb=1,pretty=1,levels=-14.+12*np.arange(60)/59.,extend=\"both\")\n",
    "plt.xlabel('$x$ ($r_g$)'); plt.ylabel('$z$ ($r_g$)')"
   ]
  },
  {
   "cell_type": "markdown",
   "metadata": {},
   "source": [
    "calculate the **inward mass flux** at this later time\n",
    "### Q: where is material infalling or outflowing? is that what you expect? \n",
    "### Q: what about at the event horizon? is there gas falling onto the black hole?\n",
    "the inward mass flux at the event horizon is called the **accretion rate**"
   ]
  },
  {
   "cell_type": "code",
   "execution_count": null,
   "metadata": {},
   "outputs": [],
   "source": [
    "FM_100 = sum_angles(-rho*uu[1])\n",
    "plt.plot(r1d,FM_000,label='t=0')\n",
    "plt.plot(r1d,FM_100,label='1000')\n",
    "plt.legend(fontsize=12)\n",
    "plt.xlim(0,xr)\n",
    "plt.xlabel(r'$r$ ($r_g$)'); plt.ylabel('inward radial mass flux')"
   ]
  },
  {
   "cell_type": "markdown",
   "metadata": {},
   "source": [
    "re-calculate our averaged 1D quantities"
   ]
  },
  {
   "cell_type": "code",
   "execution_count": null,
   "metadata": {},
   "outputs": [],
   "source": [
    "hr_100=np.sqrt(shell((r*np.cos(h))**2.))/r1d\n",
    "Omega_r_100=shell(uu[3]/uu[0])\n",
    "vr_r_100=shell(uu[1]/uu[0])\n",
    "pgas_r_100 = shell(ug*(gam-1.))\n",
    "bsq_r_100 = shell(bsq)\n",
    "beta_r_100 = pgas_r_100/bsq_r_100*2."
   ]
  },
  {
   "cell_type": "markdown",
   "metadata": {},
   "source": [
    "### plot comparisons of b^2, beta between early and late time\n",
    "### Q: how does the magnetic field strength compare?"
   ]
  },
  {
   "cell_type": "code",
   "execution_count": null,
   "metadata": {},
   "outputs": [],
   "source": [
    "plt.semilogy(r1d,bsq_r_000,label='t=0')\n",
    "plt.semilogy(r1d,bsq_r_100,label='1000')\n",
    "plt.xlim(0,xr); plt.ylim(1e-8,1e-2)\n",
    "plt.legend(fontsize=12)\n",
    "plt.xlabel(r'$r$ ($r_g$)'); plt.ylabel(r'$b^2$')\n",
    "\n",
    "plt.figure()\n",
    "plt.semilogy(r1d,beta_r_000,label='t=0')\n",
    "plt.semilogy(r1d,beta_r_100,label='1000')\n",
    "plt.xlim(0,xr); plt.ylim(1.,1e6)\n",
    "plt.legend(fontsize=12)\n",
    "plt.xlabel(r'$r$ ($r_g$)'); plt.ylabel(r'plasma $\\beta$')"
   ]
  },
  {
   "cell_type": "markdown",
   "metadata": {},
   "source": [
    "### optional further experiments:\n",
    "make plots of the accretion rate and beta vs. time<br>\n",
    "i) transfer all dump files to your scratch space<br>\n",
    "ii) define lists of mdot, beta, b2<br>\n",
    "iii) loop over dump files, calculate quantities as we have done so far, append them to lists<br>\n",
    "iv) make plots vs. time at fixed radius (for beta near 10 r_g, for Mdot near event horizon)<br>\n",
    "**Q: how do the accretion rate and magnetic field strength grow with time?**\n",
    "\n",
    "calculate jet power<br>\n",
    "**Q: does our torus launch a jet?**<br>\n",
    "check the harmpi_tutorial.md and ask instructors "
   ]
  },
  {
   "cell_type": "code",
   "execution_count": null,
   "metadata": {
    "collapsed": true
   },
   "outputs": [],
   "source": []
  }
 ],
 "metadata": {
  "kernelspec": {
   "display_name": "Python 3",
   "language": "python",
   "name": "python3"
  },
  "language_info": {
   "codemirror_mode": {
    "name": "ipython",
    "version": 3
   },
   "file_extension": ".py",
   "mimetype": "text/x-python",
   "name": "python",
   "nbconvert_exporter": "python",
   "pygments_lexer": "ipython3",
   "version": "3.7.1"
  }
 },
 "nbformat": 4,
 "nbformat_minor": 1
}
